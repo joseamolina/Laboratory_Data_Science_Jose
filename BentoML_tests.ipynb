{
  "nbformat": 4,
  "nbformat_minor": 0,
  "metadata": {
    "colab": {
      "name": "BentoML_tests.ipynb",
      "provenance": [],
      "authorship_tag": "ABX9TyMrlO9ayHGXVQugzRXP84Jl",
      "include_colab_link": true
    },
    "kernelspec": {
      "name": "python3",
      "display_name": "Python 3"
    },
    "language_info": {
      "name": "python"
    }
  },
  "cells": [
    {
      "cell_type": "markdown",
      "metadata": {
        "id": "view-in-github",
        "colab_type": "text"
      },
      "source": [
        "<a href=\"https://colab.research.google.com/github/joseamolina/Laboratory_Data_Science_Jose/blob/main/BentoML_tests.ipynb\" target=\"_parent\"><img src=\"https://colab.research.google.com/assets/colab-badge.svg\" alt=\"Open In Colab\"/></a>"
      ]
    },
    {
      "cell_type": "code",
      "execution_count": null,
      "metadata": {
        "id": "6Kwe47FRX2zH"
      },
      "outputs": [],
      "source": [
        ""
      ]
    }
  ]
}